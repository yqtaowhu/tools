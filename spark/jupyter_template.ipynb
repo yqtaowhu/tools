{
 "cells": [
  {
   "cell_type": "code",
   "execution_count": 9,
   "metadata": {},
   "outputs": [
    {
     "name": "stdout",
     "output_type": "stream",
     "text": [
      "taoyanqi /Users/taoyanqi/software/spark-3.0.0-preview2-bin-hadoop2.7\n",
      "Welcome to\n",
      "      ____              __\n",
      "     / __/__  ___ _____/ /__\n",
      "    _\\ \\/ _ \\/ _ `/ __/  '_/\n",
      "   /__ / .__/\\_,_/_/ /_/\\_\\   version 3.0.0-preview2\n",
      "      /_/\n",
      "\n",
      "Using Python version 3.7.4 (default, Aug 13 2019 15:17:50)\n",
      "SparkSession available as 'spark'.\n"
     ]
    }
   ],
   "source": [
    "import os\n",
    "import sys\n",
    "def spark_init(app_name='pyspark-shell'):\n",
    "\n",
    "    spark_home = os.environ.get('SPARK_HOME', None)\n",
    "    user = os.environ.get('USER', None)\n",
    "    print(user, spark_home)\n",
    "\n",
    "    sys.path.insert(0, spark_home + '/python')\n",
    "    sys.path.insert(0, os.path.join(spark_home, 'python/lib/py4j-0.10.8.1-src.zip'))\n",
    "\n",
    "    os.environ['PYSPARK_SUBMIT_ARGS'] = \"pyspark-shell\"\n",
    "\n",
    "    from pyspark.context import SparkContext\n",
    "    #SparkContext.setSystemProperty('spark.yarn.queue', 'root.xinyewusibu-yanfayizu.pickup')\n",
    "    SparkContext.setSystemProperty('spark.files.overwrite', 'true')\n",
    "    SparkContext.setSystemProperty('spark.speculation.quantile', '0.9')\n",
    "    SparkContext.setSystemProperty('spark.speculation.multiplier', '1.5')\n",
    "    SparkContext.setSystemProperty('spark.app.name', '{}-{}'.format(app_name, user))\n",
    "    SparkContext.setSystemProperty('spark.kryoserializer.buffer.max', '256m')\n",
    "    SparkContext.setSystemProperty('spark.kryoserializer.buffer', '64m')\n",
    "    SparkContext.setSystemProperty('spark.executor.memory', '13g')\n",
    "    SparkContext.setSystemProperty('spark.executor.cores', '3')\n",
    "    return os.path.join(spark_home, \"python/pyspark/shell.py\")\n",
    "\n",
    "path = spark_init()\n",
    "exec(open(path).read())"
   ]
  },
  {
   "cell_type": "code",
   "execution_count": 11,
   "metadata": {},
   "outputs": [],
   "source": [
    "from pyspark.sql import SparkSession"
   ]
  },
  {
   "cell_type": "code",
   "execution_count": null,
   "metadata": {},
   "outputs": [],
   "source": []
  }
 ],
 "metadata": {
  "kernelspec": {
   "display_name": "Python 3",
   "language": "python",
   "name": "python3"
  },
  "language_info": {
   "codemirror_mode": {
    "name": "ipython",
    "version": 3
   },
   "file_extension": ".py",
   "mimetype": "text/x-python",
   "name": "python",
   "nbconvert_exporter": "python",
   "pygments_lexer": "ipython3",
   "version": "3.7.4"
  }
 },
 "nbformat": 4,
 "nbformat_minor": 4
}
